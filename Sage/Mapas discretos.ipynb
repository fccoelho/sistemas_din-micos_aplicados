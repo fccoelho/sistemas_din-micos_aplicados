{
 "cells": [
  {
   "cell_type": "code",
   "execution_count": 2,
   "metadata": {},
   "outputs": [],
   "source": [
    "%display typeset"
   ]
  },
  {
   "cell_type": "markdown",
   "metadata": {},
   "source": [
    "# Mapas de Dimensão finita\n",
    "Também conhecidos como equações de diferença são sistemas dinâmicos sobre tempo discreto. Neste Notebook iremos explorar alguns resultados básicos sobre mapas discretos e mapas clássicos em uma e duas dimensões.\n",
    "\n",
    "Vamos começar com um exemplo simples:\n",
    "\n",
    "$$U_{n+1}=a sin(U_n), \\,\\,U_0=U$$\n",
    "\n",
    "A partir da expressão acima vemos que Mapas são funções de $\\mathbb{R}^p \\rightarrow \\mathbb{R}^p$ que produzem sequências de números da forma $\\{U_n\\}_{n=0}^{\\infty}$. No caso de mapas unidimensionais, $p=1$."
   ]
  },
  {
   "cell_type": "code",
   "execution_count": 2,
   "metadata": {},
   "outputs": [
    {
     "data": {
      "application/vnd.jupyter.widget-view+json": {
       "model_id": "48cc82732491444c9b7a0b0500b169cf",
       "version_major": 2,
       "version_minor": 0
      },
      "text/plain": [
       "Interactive function <function oneDmap at 0x7f64d74ec040> with 3 widgets\n",
       "  a: TransformFloatSlider(value=1.1, …"
      ]
     },
     "metadata": {},
     "output_type": "display_data"
    }
   ],
   "source": [
    "@interact\n",
    "def oneDmap(a=slider(0.5,3,.1,1.1, label='$a$'), u0=slider(0,1,.1,.1, label='$U_0$'), n=slider(10,300,1,100, label='Iterações:')):\n",
    "    pts = [(0,a*sin(u0))]\n",
    "    for i in range(1,n+1):\n",
    "        nu = a*sin(pts[-1][1])\n",
    "        pts.append((i,nu))\n",
    "    p = points(pts,axes_labels=['$n$', '$U_n$'])\n",
    "    show(\"Uf= \",pts[-1][1])\n",
    "    show(p)\n",
    "        "
   ]
  },
  {
   "cell_type": "markdown",
   "metadata": {},
   "source": [
    "### Mapa quadrático\n",
    "Como um segundo exemplo, vamos considerar o mapa quadrático:\n",
    "$$U_{n+1}=a U_n (1-U_n), \\,\\,\\, U_0=U$$"
   ]
  },
  {
   "cell_type": "code",
   "execution_count": 3,
   "metadata": {},
   "outputs": [
    {
     "data": {
      "application/vnd.jupyter.widget-view+json": {
       "model_id": "6dae2dd57efc46c0820c6ef83a1f2afd",
       "version_major": 2,
       "version_minor": 0
      },
      "text/plain": [
       "Interactive function <function quad_map at 0x7f64d7d9aa60> with 3 widgets\n",
       "  a: TransformFloatSlider(value=1.1,…"
      ]
     },
     "metadata": {},
     "output_type": "display_data"
    }
   ],
   "source": [
    "qmap = lambda u,a: a*u*(1-u)\n",
    "@interact\n",
    "def quad_map(a=slider(0.5,4.5,.1,1.1, label='$a$'), u0=slider(0,1,.1,.1, label='$U_0$'), n=slider(10,300,1,100, label='Iterações:')):\n",
    "    pts = [(u0, qmap(u0,a))]\n",
    "    for i in range(1,n+1):\n",
    "        nu = qmap(pts[-1][1],a)\n",
    "        pts.append((i,nu))\n",
    "    p = points(pts,axes_labels=['$n$', '$U_n$'])\n",
    "    show(\"Uf= \",pts[-1][1])\n",
    "    show(p)"
   ]
  },
  {
   "cell_type": "markdown",
   "metadata": {},
   "source": [
    "## Diagramas Cobweb (teia de aranha)\n",
    "\n",
    "Também conhecidos como diagramas de Verhulst, diagramas cobweb nos permitem explorar a dinâmica de mapas discretos. vejamos o exemplo abaixo com um mapa quadrático também conhecido como mapa logístico. \n",
    "\n",
    "$$U_{n+1} = a U_n (1-U_n)$$\n",
    "\n",
    "Estes diagramas podem ser construídos utilizado-se os seguintes passos:\n",
    "1. Encontre o ponto $(U_0, U_1)$;\n",
    "1. Trace uma linha horizontal deste ponto até encontrar a diagonal no ponto $(U_1,U_1)$;\n",
    "1. Trace uma linha vertical deste último ponto na diagonal até encontrar a função no ponto $(U_1, U_2)$;\n",
    "1. Repita os passos 2 e 3 incrementando os indices.\n",
    "\n",
    "No diagrama de Teia de aranha, um *ponto fixo* aparece como uma **espiral convergente**, Um *ponto instável* como uma **espiral divergente**, Uma *órbita de período 2* aparece como um **retângulo**, *períodos maiores* aparecem como **múltiplos retângulos**. *Atratores caóticos* aparecem como **inúmeros retângulos**. "
   ]
  },
  {
   "cell_type": "code",
   "execution_count": 4,
   "metadata": {
    "scrolled": false
   },
   "outputs": [
    {
     "data": {
      "application/vnd.jupyter.widget-view+json": {
       "model_id": "dfa1fec53b0644409b5902f420156755",
       "version_major": 2,
       "version_minor": 0
      },
      "text/plain": [
       "Interactive function <function cobwebber at 0x7f64cdb48ee0> with 4 widgets\n",
       "  f_text: TransformText(value='a*x*…"
      ]
     },
     "metadata": {},
     "output_type": "display_data"
    }
   ],
   "source": [
    "def cobweb(a_function, start, mask = 0, iterations = 20, xmin = 0, xmax = 1):\n",
    "    '''\n",
    "    Returns a graphics object of a plot of the function and a cobweb trajectory starting from the value start.\n",
    "\n",
    "    INPUT:\n",
    "        a_function: a function of one variable\n",
    "        start: the starting value of the iteration\n",
    "        mask: (optional) the number of initial iterates to ignore\n",
    "        iterations: (optional) the number of iterations to draw, following the masked iterations\n",
    "        xmin: (optional) the lower end of the plotted interval\n",
    "        xmax: (optional) the upper end of the plotted interval\n",
    "    \n",
    "    EXAMPLES:\n",
    "        sage: f = lambda x: 3.9*x*(1-x)\n",
    "        sage: show(cobweb(f,.01,iterations=200), xmin = 0, xmax = 1, ymin=0)\n",
    "    \n",
    "    '''\n",
    "    basic_plot = plot(a_function, xmin = xmin, xmax = xmax, axes_labels=['$U_n$', '$U_{n+1}$'])\n",
    "    iv = point((start,a_function(start)),color='green', size=30)\n",
    "    id_plot = plot(lambda x: x, xmin = xmin, xmax = xmax)\n",
    "    iter_list = []\n",
    "    current = start\n",
    "    for i in range(mask):\n",
    "        current = a_function(current)\n",
    "    for i in range(iterations):\n",
    "        iter_list.append([current,a_function(current)])\n",
    "        current = a_function(current)\n",
    "        iter_list.append([current,current])\n",
    "    series = list_plot([[i,pt[0]] for i,pt in enumerate(iter_list)], color='red', legend_label='$U_n$')\n",
    "    cobweb = line(iter_list, rgbcolor = (1,0,0))\n",
    "    ga = graphics_array([\n",
    "        [basic_plot +iv + id_plot + cobweb],\n",
    "        [series]\n",
    "    ],)\n",
    "    ga.show(figsize=[8,10])#basic_plot +iv + id_plot + cobweb\n",
    "var('x')\n",
    "@interact\n",
    "def cobwebber(f_text = input_box(default = \"a*x*(1-x)\",label = \"mapa\", type=str),\n",
    "              a = slider(1,4,0.1,3.8, label='$a$'),\n",
    "              start_val = slider(0,1,.01,.5,label = 'valor inicial'), \n",
    "              its = slider([2^i for i in range(0,12)],default = 16, label=\"iterações\")):\n",
    "    def f(x):\n",
    "        return eval(f_text.replace('a',str(a)))\n",
    "    show(cobweb(f, start_val, iterations = its))"
   ]
  },
  {
   "cell_type": "markdown",
   "metadata": {},
   "source": [
    "### Diagrama orbital\n",
    "Vimos que o número de orbitas distintas no modelo logístico varia com o parâmetro $a$. Podemos construir outro diagrama interessante representando o número de órbitas ao longo de um intervalo do parâmetro."
   ]
  },
  {
   "cell_type": "code",
   "execution_count": 5,
   "metadata": {},
   "outputs": [
    {
     "data": {
      "application/vnd.jupyter.widget-view+json": {
       "model_id": "37db359737da4f3c9a1c5d3f84173d53",
       "version_major": 2,
       "version_minor": 0
      },
      "text/plain": [
       "Interactive function <function orb_diagram at 0x7f64cdb3c160> with 6 widgets\n",
       "  mask: IntSlider(value=50, descr…"
      ]
     },
     "metadata": {},
     "output_type": "display_data"
    },
    {
     "ename": "TypeError",
     "evalue": "unsupported operand type(s) for *: 'TransformFloatSlider' and 'float'",
     "output_type": "error",
     "traceback": [
      "\u001b[0;31m---------------------------------------------------------------------------\u001b[0m",
      "\u001b[0;31mTypeError\u001b[0m                                 Traceback (most recent call last)",
      "\u001b[0;32m<ipython-input-5-1d73bbd42954>\u001b[0m in \u001b[0;36m<module>\u001b[0;34m\u001b[0m\n\u001b[1;32m     21\u001b[0m \u001b[0;34m\u001b[0m\u001b[0m\n\u001b[1;32m     22\u001b[0m \u001b[0;34m\u001b[0m\u001b[0m\n\u001b[0;32m---> 23\u001b[0;31m \u001b[0morb_diagram\u001b[0m\u001b[0;34m(\u001b[0m\u001b[0mlogmap\u001b[0m\u001b[0;34m)\u001b[0m\u001b[0;34m\u001b[0m\u001b[0;34m\u001b[0m\u001b[0m\n\u001b[0m",
      "\u001b[0;32m<ipython-input-5-1d73bbd42954>\u001b[0m in \u001b[0;36morb_diagram\u001b[0;34m(mask, start, a_min, a_max, ymax, its)\u001b[0m\n\u001b[1;32m      7\u001b[0m     \u001b[0mfunc\u001b[0m \u001b[0;34m=\u001b[0m \u001b[0mlogmap\u001b[0m\u001b[0;34m\u001b[0m\u001b[0;34m\u001b[0m\u001b[0m\n\u001b[1;32m      8\u001b[0m     \u001b[0mstates\u001b[0m \u001b[0;34m=\u001b[0m \u001b[0;34m[\u001b[0m\u001b[0;34m]\u001b[0m\u001b[0;34m\u001b[0m\u001b[0;34m\u001b[0m\u001b[0m\n\u001b[0;32m----> 9\u001b[0;31m     \u001b[0;32mfor\u001b[0m \u001b[0ma\u001b[0m \u001b[0;32min\u001b[0m \u001b[0mnp\u001b[0m\u001b[0;34m.\u001b[0m\u001b[0mlinspace\u001b[0m\u001b[0;34m(\u001b[0m\u001b[0ma_min\u001b[0m\u001b[0;34m,\u001b[0m\u001b[0ma_max\u001b[0m\u001b[0;34m,\u001b[0m\u001b[0mInteger\u001b[0m\u001b[0;34m(\u001b[0m\u001b[0;36m150\u001b[0m\u001b[0;34m)\u001b[0m\u001b[0;34m,\u001b[0m \u001b[0mdtype\u001b[0m\u001b[0;34m=\u001b[0m\u001b[0mfloat\u001b[0m\u001b[0;34m)\u001b[0m\u001b[0;34m:\u001b[0m\u001b[0;34m\u001b[0m\u001b[0;34m\u001b[0m\u001b[0m\n\u001b[0m\u001b[1;32m     10\u001b[0m         \u001b[0miter_list\u001b[0m \u001b[0;34m=\u001b[0m \u001b[0;34m[\u001b[0m\u001b[0;34m]\u001b[0m\u001b[0;34m\u001b[0m\u001b[0;34m\u001b[0m\u001b[0m\n\u001b[1;32m     11\u001b[0m         \u001b[0mcurrent\u001b[0m \u001b[0;34m=\u001b[0m \u001b[0mstart\u001b[0m\u001b[0;34m\u001b[0m\u001b[0;34m\u001b[0m\u001b[0m\n",
      "\u001b[0;32m<__array_function__ internals>\u001b[0m in \u001b[0;36mlinspace\u001b[0;34m(*args, **kwargs)\u001b[0m\n",
      "\u001b[0;32m~/Downloads/SageMath/local/lib/python3.9/site-packages/numpy/core/function_base.py\u001b[0m in \u001b[0;36mlinspace\u001b[0;34m(start, stop, num, endpoint, retstep, dtype, axis)\u001b[0m\n\u001b[1;32m    118\u001b[0m     \u001b[0;31m# Convert float/complex array scalars to float, gh-3504\u001b[0m\u001b[0;34m\u001b[0m\u001b[0;34m\u001b[0m\u001b[0;34m\u001b[0m\u001b[0m\n\u001b[1;32m    119\u001b[0m     \u001b[0;31m# and make sure one can use variables that have an __array_interface__, gh-6634\u001b[0m\u001b[0;34m\u001b[0m\u001b[0;34m\u001b[0m\u001b[0;34m\u001b[0m\u001b[0m\n\u001b[0;32m--> 120\u001b[0;31m     \u001b[0mstart\u001b[0m \u001b[0;34m=\u001b[0m \u001b[0masanyarray\u001b[0m\u001b[0;34m(\u001b[0m\u001b[0mstart\u001b[0m\u001b[0;34m)\u001b[0m \u001b[0;34m*\u001b[0m \u001b[0;36m1.0\u001b[0m\u001b[0;34m\u001b[0m\u001b[0;34m\u001b[0m\u001b[0m\n\u001b[0m\u001b[1;32m    121\u001b[0m     \u001b[0mstop\u001b[0m  \u001b[0;34m=\u001b[0m \u001b[0masanyarray\u001b[0m\u001b[0;34m(\u001b[0m\u001b[0mstop\u001b[0m\u001b[0;34m)\u001b[0m  \u001b[0;34m*\u001b[0m \u001b[0;36m1.0\u001b[0m\u001b[0;34m\u001b[0m\u001b[0;34m\u001b[0m\u001b[0m\n\u001b[1;32m    122\u001b[0m \u001b[0;34m\u001b[0m\u001b[0m\n",
      "\u001b[0;31mTypeError\u001b[0m: unsupported operand type(s) for *: 'TransformFloatSlider' and 'float'"
     ]
    }
   ],
   "source": [
    "import numpy as np\n",
    "logmap = lambda a,x: a*x*(1-x)\n",
    "@interact\n",
    "def orb_diagram(mask=50, start=0.5, a_min=slider(2.9,4.0,.01,3.4), a_max=slider(3.5,4.0,.01,4),\n",
    "                ymax = slider(0,1,0.01,1),\n",
    "               its = slider([2^i for i in range(0,12)],default = 16, label=\"iterações\")):\n",
    "    func = logmap\n",
    "    states = []\n",
    "    for a in np.linspace(a_min,a_max,150, dtype=float):\n",
    "        iter_list = [] \n",
    "        current = start\n",
    "        for i in range(mask):\n",
    "            current = func(a,current)\n",
    "        for i in range(its):\n",
    "            iter_list.append([a,func(a, current)])\n",
    "            current = func(a,current)\n",
    "#             iter_list.append([a,current])\n",
    "        states.extend(iter_list)\n",
    "    p = list_plot(states)\n",
    "    p.show(figsize=[8,8],ymax=ymax)\n",
    "\n",
    "\n",
    "orb_diagram(logmap)"
   ]
  },
  {
   "cell_type": "code",
   "execution_count": 6,
   "metadata": {},
   "outputs": [
    {
     "data": {
      "text/html": [
       "<html><script type=\"math/tex; mode=display\">\\newcommand{\\Bold}[1]{\\mathbf{#1}}3.5</script></html>"
      ],
      "text/latex": [
       "$$\\newcommand{\\Bold}[1]{\\mathbf{#1}}3.5$$"
      ],
      "text/plain": [
       "3.5"
      ]
     },
     "execution_count": 6,
     "metadata": {},
     "output_type": "execute_result"
    }
   ],
   "source": [
    "a_min=slider(3.5,4,.01,3.4)\n",
    "a_min.value"
   ]
  },
  {
   "cell_type": "markdown",
   "metadata": {},
   "source": [
    "## Mapa de Hénon, um mapa bi-dimensional\n",
    "Stuart e Humphries apresentam no capítulo 1, equação 1.1.3 o mapa de Henón:\n",
    "\n",
    "\n",
    "\\begin{align}\n",
    "X_{n+1} &= a -bY_n -X^2_n\\\\\n",
    "Y_{n+1} &= X_n\n",
    "\\end{align}\n"
   ]
  },
  {
   "cell_type": "code",
   "execution_count": 7,
   "metadata": {},
   "outputs": [
    {
     "data": {
      "application/vnd.jupyter.widget-view+json": {
       "model_id": "f90c41ebeb264f50bcfad4a4b2681f1e",
       "version_major": 2,
       "version_minor": 0
      },
      "text/plain": [
       "Interactive function <function Henon_map at 0x7f64cd9c9160> with 5 widgets\n",
       "  x0: TransformFloatSlider(value=0.…"
      ]
     },
     "metadata": {},
     "output_type": "display_data"
    }
   ],
   "source": [
    "@interact\n",
    "def Henon_map(x0=slider(-0.4,.4,.1,.1, label='$X_0$'), \n",
    "              y0=slider(-.4,.4,.1,.1, label='$Y_0$'),\n",
    "              a=slider(0,1,.1,0,label='$a$'),\n",
    "              b=slider(0,1,.1,1,label='$b$'),\n",
    "              n=slider(10,1000,50,500, label='Iterações:')):\n",
    "    pts = [(a-b*y0-x0**2,x0)]\n",
    "    for i in range(1,n+1):\n",
    "        xi = a-b*pts[-1][1]-pts[-1][0]**2\n",
    "        yi = pts[-1][0]\n",
    "        pts.append((xi,yi))\n",
    "    p = points(pts, axes_labels=['$X_n$', '$Y_n$'])\n",
    "    xp = list_plot([[i,pt[0]] for i,pt in enumerate(pts)], color='red', legend_label='$X_n$')\n",
    "    yp = list_plot([[i,pt[1]] for i,pt in enumerate(pts)], color='green', legend_label='$Y_n$', alpha=.6)\n",
    "    ga = graphics_array((p,xp+yp))\n",
    "    ga.show(figsize=[10,5])"
   ]
  },
  {
   "cell_type": "markdown",
   "metadata": {},
   "source": [
    "Entretando o Mapa de Hénon [mais conhecido](https://en.wikipedia.org/wiki/H%C3%A9non_map) tem uma formulação ligeiramente diferente:\n",
    "\n",
    "\\begin{align}\n",
    "X_{n+1} &= 1 -a X^2_n + Y_n \\\\\n",
    "Y_{n+1} &= b X_n\n",
    "\\end{align}\n",
    "\n",
    "É importante mencionar que o sistema acima é a forma como o mapa aparece no [artigo original de Hénon](https://venturi.soe.ucsc.edu/sites/default/files/Henon1976.pdf) de 1976."
   ]
  },
  {
   "cell_type": "code",
   "execution_count": 8,
   "metadata": {},
   "outputs": [
    {
     "data": {
      "application/vnd.jupyter.widget-view+json": {
       "model_id": "f9722968fca24822ae35a006c33ee9a7",
       "version_major": 2,
       "version_minor": 0
      },
      "text/plain": [
       "Interactive function <function Henon_map_2 at 0x7f64cd3f9160> with 5 widgets\n",
       "  x0: TransformFloatSlider(value=…"
      ]
     },
     "metadata": {},
     "output_type": "display_data"
    }
   ],
   "source": [
    "@interact\n",
    "def Henon_map_2(x0=slider(-0.4,.4,.1,0, label='$X_0$'), \n",
    "              y0=slider(-.4,.4,.1,0, label='$Y_0$'),\n",
    "              a=slider(0,2,.1,1.2,label='$a$'),\n",
    "              b=slider(0,1,.1,0.3,label='$b$'),\n",
    "              n=slider(10,1000,50,500, label='Iterações:')):\n",
    "    pts = [(a-b*y0-x0**2,x0)]\n",
    "    for i in range(1,n+1):\n",
    "        xi = 1-a* pts[-1][0]**2 + pts[-1][1]\n",
    "        yi = b*pts[-1][0]\n",
    "        pts.append((xi,yi))\n",
    "    p = points(pts, axes_labels=['$X_n$', '$Y_n$'])\n",
    "    xp = list_plot([[i,pt[0]] for i,pt in enumerate(pts)], color='red', legend_label='$X_n$')\n",
    "    yp = list_plot([[i,pt[1]] for i,pt in enumerate(pts)], color='green', legend_label='$Y_n$', alpha=.3)\n",
    "    ga = graphics_array((p,xp+yp))\n",
    "    ga.show(figsize=[10,5])"
   ]
  },
  {
   "cell_type": "markdown",
   "metadata": {},
   "source": [
    "## O Semigrupo $S^n$.\n",
    "Vamos introduzir o subgrupo $S^n$ como uma notação para a realização de n passos(iterações) do mapa.\n",
    "\n",
    "Dado um sistema dinâmico sobre um conjunto $E$. Podemos definir o semigrupo de evolução $S^n:E \\rightarrow E$ como sendo o operador tal que $U_n=S^n U_0$. Este operador tem as seguintes propriedades:\n",
    "1. $U_{n+m}=S^nU_m=S^mU_n=S^{n+m}U_0$, para todo $n,m \\geq 0$;\n",
    "1. $S^0= I $, a identidade.\n",
    "\n",
    "o semigrupo $S^n$ é comumente chamado de *mapa de evolução*."
   ]
  },
  {
   "cell_type": "markdown",
   "metadata": {},
   "source": [
    "## Conjuntos Limite (Limit sets)\n",
    "As seguintes perguntas são relevantes para sistemas dinâmicos de qualquer natureza: \n",
    " - Quais os seus equilíbrios? \n",
    " Pontos de equilíbrio são estados de onde o sistema não sairá a menos que perturbado. No caso dos mapas discretos estes equilíbrios são chamados de conjuntos limites, pois podem ser definidos por um conjunto de pontos ao invés de um único.\n",
    " - Quais condições iniciais levam a que conjuntos limites?\n",
    " ou seja, que conjuntos de pontos constituem sua **bacia de atração**?\n",
    " \n",
    "Considere o seguinte mapa: $$U_{n+1}=U_n^2,\\,\\,U_0=U$$\n",
    "\n",
    "Este é um sistema dinâmico em $\\mathbb{R}^+$. É óbvio que se $U<1$, $U_n \\rightarrow 0$ quando $n\\rightarrow \\infty$. Logo, $0$ é um ponto fixo. O conjunto $[0,1)$ é a bacia de atração de 0. Se $U=1$ então $U_n=1, \\forall n$. Logo $1$ também é um ponto fixo. Por fim, se $U>1$ então $U_n \\rightarrow \\infty$ quando $n\\rightarrow \\infty$. Portanto $\\infty$ é um equilíbrio do sistema, e o conjunto $(1,\\infty]$ é sua bacia de atração.\n",
    "\n",
    "Encontrar os equilíbrios de uma Mapa nem sempre é tão simples. Consider este outro mapa: \n",
    "$$U_{n+1}=a U -U^3, \\, U_0=U$$\n"
   ]
  },
  {
   "cell_type": "code",
   "execution_count": 10,
   "metadata": {},
   "outputs": [
    {
     "data": {
      "application/vnd.jupyter.widget-view+json": {
       "model_id": "6400794204b047189a991580aedad4ec",
       "version_major": 2,
       "version_minor": 0
      },
      "text/plain": [
       "Interactive function <function cobwebber at 0x7f64c7064c10> with 4 widgets\n",
       "  f_text: TransformText(value='a*x …"
      ]
     },
     "metadata": {},
     "output_type": "display_data"
    }
   ],
   "source": [
    "@interact\n",
    "def cobwebber(f_text = input_box(default = \"a*x - x**3\",label = \"mapa\", type=str),\n",
    "              a = slider(-1,4,0.1,3, label='$a$'),\n",
    "              start_val = slider(0,2,.01,n(sqrt(3)),label = 'valor inicial'), \n",
    "              its = slider([2^i for i in range(0,12)],default = 16, label=\"iterações\")):\n",
    "    def f(x):\n",
    "        return eval(f_text.replace('a',str(a)))\n",
    "    show(cobweb(f, start_val, iterations = its,xmin=-2,xmax=2))"
   ]
  },
  {
   "cell_type": "markdown",
   "metadata": {},
   "source": [
    "## Estabilidade\n",
    "Pontos fixos por definição são valores de $U$ para os quais $U_{n+1}=U_n$. Logo quando existirem sempre pertencerão à diagonal do gráfico de cobweb.\n",
    "\n",
    "Para uma definição mais formal, considere o seguinte mapa linear:\n",
    "$$U_{n+1}=AU_n.$$\n",
    "\n",
    "$A$ tem autovalores $\\{\\lambda_i\\}_{i=1}^l$, onde $l\\leq p$. Logo,\n",
    "1. A origem é assintoticamente estável se e somente se $|\\lambda_i|<1$. para todos os $i$.\n",
    "2. Se $|\\lambda_i|\\leq1$ para todo $i$ e os autovalores iguais a um são \"não-defeituosos\", então a origem é estável.\n",
    "\n",
    "Para mapas não lineares pode-se aplicar técnicas de linearização local nos pontos fixos, e aplicar os critérios acima. \n",
    "\n",
    "### Analisando o Mapa Logístico\n",
    "Vamos revisitar o Mapa logístico e analisar seus pontos fixos. Vamos denotar por $x^*$ os pontos fixos.\n",
    "$$x_{n+1}=rx_n(1-x_n)$$\n",
    "\n",
    "Os pontos fixos satisfazem $x^* = f(x^*)=rx^*(1-x^*)$. Logo $x^*=0$ ou $x^*=1-\\frac{1}{r}$ "
   ]
  },
  {
   "cell_type": "code",
   "execution_count": 3,
   "metadata": {},
   "outputs": [
    {
     "data": {
      "text/html": [
       "<html><script type=\"math/tex; mode=display\">\\newcommand{\\Bold}[1]{\\mathbf{#1}}\\left[x = \\frac{r - 1}{r}, x = 0\\right]</script></html>"
      ],
      "text/latex": [
       "$$\\newcommand{\\Bold}[1]{\\mathbf{#1}}\\left[x = \\frac{r - 1}{r}, x = 0\\right]$$"
      ],
      "text/plain": [
       "[x == (r - 1)/r, x == 0]"
      ]
     },
     "execution_count": 3,
     "metadata": {},
     "output_type": "execute_result"
    }
   ],
   "source": [
    "var('r x')\n",
    "solve(x==r*x*(1-x),x)"
   ]
  },
  {
   "cell_type": "markdown",
   "metadata": {},
   "source": [
    "A estabilidade dos pontos fixos depende da derivada de $f(x^*)$, $f'(x^*) = r - 2rx^*$. NO caso de $x^*=0$, $f'(0)=r$ este ponto fixo é estável se $r<1$ e instável se $r>1$. Para o segundo ponto fixo, $f'(x^*)=r-2r(1-1/r)=2-r$. Logo o segundo ponto fixo é estável quando $1<r<3$ e instável quando $r>3$."
   ]
  },
  {
   "cell_type": "code",
   "execution_count": null,
   "metadata": {},
   "outputs": [],
   "source": []
  }
 ],
 "metadata": {
  "kernelspec": {
   "display_name": "SageMath 9.3",
   "language": "sage",
   "name": "sagemath"
  },
  "language_info": {
   "codemirror_mode": {
    "name": "ipython",
    "version": 3
   },
   "file_extension": ".py",
   "mimetype": "text/x-python",
   "name": "python",
   "nbconvert_exporter": "python",
   "pygments_lexer": "ipython3",
   "version": "3.9.2"
  }
 },
 "nbformat": 4,
 "nbformat_minor": 2
}
