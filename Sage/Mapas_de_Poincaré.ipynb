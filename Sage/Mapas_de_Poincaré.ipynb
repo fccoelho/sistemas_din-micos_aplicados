{
 "cells": [
  {
   "cell_type": "markdown",
   "metadata": {
    "id": "yEZPIepIaSLz"
   },
   "source": [
    "# Mapas de Poincaré \n",
    "\n",
    "### Lucas Freire\n",
    "\n",
    "Os mapas de Poincaré (ou mapa de primeiro retorno ou secção de Poincaré) são ferramentas úteis para o estudo de sistemas dinâmicos. Intuitivamente, vamo analisar a evolução dos estados como algo parecido com uma órbita.\n",
    "\n",
    "<a href=\"https://imgbb.com/\"><img src=\"https://i.ibb.co/WBPLnq1/poincar-1.png\" alt=\"Fonte: Lynch, Tutorial...\" border=\"0\"></a>\n",
    "\n",
    "\n",
    "\n",
    "De uma maneira mais formal, dado um sistema n-dimensional, trata-se de construir uma superfície S de dimensões n-1 de tal maneira que seja sempre transversa (ou não tangente) à trajetória de evolução do sistema.\n",
    "\n",
    "<a href=\"https://imgbb.com/\"><img src=\"https://i.ibb.co/BVdgDgS/Fonte-Stuart-and-Humphries.png\" alt=\"Fonte: Stuart and Humphries\" border=\"0\"></a>\n",
    "\n",
    "O mapa de Poincaré é portante uma função da seguinte forma:\n",
    "\n",
    "$$\n",
    "\\mathbf{x}_{i+1}=P\\left(\\mathbf{x}_{i}\\right)\n",
    "$$\n",
    "No estudo quanto a estabilidade do sistema, estamos interessados em identificar o ponto fixo dado por: $$\n",
    "P\\left(\\mathbf{x}^{*}\\right)=\\mathbf{x}^{*}\n",
    "$$\n",
    "\n",
    "\n",
    "Elegante, intuitivo, visual, mas Stuart e Humphries que em geral é bastante difícil encontrar a função P. Os autores apresentam dois exemplos com solução analítica, mas vamos antes conferir os exemplos de Stephen Lynch abaixo por serem mais simples.\n",
    "\n",
    "\n",
    "Vamos considerar o caso bidimensional sendo a secção de Poincaré definida por uma reta sigma, temos: \n",
    "\n",
    "<a href=\"https://ibb.co/CV6ftPB\"><img src=\"https://i.ibb.co/BTG9PnL/poincar-3.png\" alt=\"Exemplo 2\" border=\"0\"></a>\n",
    "\n",
    "Nosso sistema será dado por: \n",
    "\n",
    "$$\n",
    "\\dot{x}=-y-x \\sqrt{x^{2}+y^{2}}, \\quad \\dot{y}=x-y \\sqrt{x^{2}+y^{2}}\n",
    "$$\n",
    "\n",
    "E convertendo para coordenadas polares vamos computar a sequência de retornos à secção de Poincaré com $r_{0}=1$: \n",
    "\n",
    "$$\n",
    "\\dot{r}=-r^{2}, \\quad \\dot{\\theta}=1\n",
    "$$\n",
    "\n",
    "\n",
    "\n",
    "\n"
   ]
  },
  {
   "cell_type": "code",
   "execution_count": null,
   "metadata": {
    "colab": {
     "base_uri": "https://localhost:8080/",
     "height": 446
    },
    "id": "virCq-0sEV5i",
    "outputId": "8efb95ef-f765-41ce-861c-7fadb2b75617"
   },
   "outputs": [
    {
     "name": "stdout",
     "output_type": "stream",
     "text": [
      "r0 = 1.0\n",
      "r1 = 0.13730247618333372\n",
      "r2 = 0.07371163982459514\n",
      "r3 = 0.05037894644425656\n",
      "r4 = 0.038266178113978165\n",
      "r5 = 0.030849052029229055\n",
      "r6 = 0.025840414374083687\n",
      "r7 = 0.022231002965186247\n",
      "r8 = 0.01950634323887854\n"
     ]
    },
    {
     "data": {
      "image/png": "[encoded data removed]",
      "text/plain": [
       "<Figure size 432x288 with 1 Axes>"
      ]
     },
     "metadata": {
      "needs_background": "light",
      "tags": []
     },
     "output_type": "display_data"
    }
   ],
   "source": [
    "# Program 09a: Poincare first return map.\n",
    "# See Figure 9.2.\n",
    "\n",
    "import matplotlib.pyplot as plt\n",
    "from sympy import sqrt\n",
    "import numpy as np\n",
    "from scipy.integrate import odeint\n",
    "\n",
    "xmin, xmax = -1, 1\n",
    "ymin, ymax = -1, 1\n",
    "\n",
    "def dx_dt(x, t):\n",
    "    return [-x[1] - x[0] * sqrt(x[0]**2 + x[1]**2),\n",
    "            x[0] - x[1] * sqrt(x[0]**2 + x[1]**2)]\n",
    "\n",
    "# Phase portrait\n",
    "t = np.linspace(0, 32*np.pi, 10000) # número de órbitas multiplica pi aqui \n",
    "xs = odeint(dx_dt, [1, 0], t)\n",
    "plt.plot(xs[:, 0], xs[:, 1], 'r-')\n",
    "plt.xlabel('x', fontsize=15)\n",
    "plt.ylabel('y', fontsize=15)\n",
    "plt.tick_params(labelsize=15)\n",
    "plt.xlim(xmin, xmax)\n",
    "plt.ylim(ymin, ymax);\n",
    "\n",
    "# First eight returns on x-axis.\n",
    "t = np.linspace(0, 9*2*np.pi, 900000)\n",
    "xs = odeint(dx_dt, [1, 0], t)\n",
    "\n",
    "for i in range(9):\n",
    "    print('r{} = {}'.format(i, xs[100000*i, 0]))\n",
    "\n",
    "plt.show()"
   ]
  },
  {
   "cell_type": "markdown",
   "metadata": {
    "id": "IyGp6lRv-wd3"
   },
   "source": [
    "No exemplo acima, foram usadas as condições iniciais r(0) = 1 e $\\quad {\\theta}=1$:$$\n",
    "r(t)=\\frac{1}{1+t}, \\quad \\theta(t)=t\n",
    "$$\n",
    "\n",
    "\n",
    "$$\n",
    "r(t)=\\frac{1}{1+\\theta(t)}\n",
    "$$\n",
    "\n",
    "O que leva a seguinte expressão para o mapa de Poincaré:\n",
    "\n",
    "$$\n",
    "r_{n}=\\frac{1}{1+2 n \\pi}\n",
    "$$\n",
    "\n",
    "$$\n",
    "r_{n+1}=\\mathbf{P}\\left(r_{n}\\right)=\\frac{r_{n}}{1+2 \\pi r_{n}}\n",
    "$$"
   ]
  },
  {
   "cell_type": "markdown",
   "metadata": {
    "id": "tmgqoeV3KfSs"
   },
   "source": [
    "Segundo exemplo é: \n",
    "$$\n",
    "\\dot{x}=-y+x\\left(1-\\sqrt{x^{2}+y^{2}}\\right), \\quad \\dot{y}=x+y\\left(1-\\sqrt{x^{2}+y^{2}}\\right)\n",
    "$$\n",
    "\n",
    "Convertido em coordenadas polares:\n",
    "\n",
    "$$\n",
    "\\dot{r}=r(1-r), \\quad \\dot{\\theta}=1\n",
    "$$\n",
    "\n",
    "Resolvido por separação de variáveis:\n",
    "\n",
    "$$\n",
    "r(t)=\\frac{1}{1+C e^{-t}}, \\quad \\theta(t)=t+\\theta_{0}, $\\theta=\\omega t$\n",
    "$$\n",
    "\n",
    "Com $r_{0} = 2$, a função de retorno pode ser expressa como:\n",
    "\n",
    "$$\n",
    "r_{n}=\\frac{1}{1-\\frac{1}{2} e^{-2 n \\pi}}\n",
    "$$\n",
    "\n",
    "<a href=\"https://ibb.co/n3mC63K\"><img src=\"https://i.ibb.co/PTjQFTV/poicare4.png\" alt=\"poicare4\" border=\"0\"></a>\n",
    "\n",
    "\n",
    "Abaixo são apresentados diferentes estados para um experimento uma peça de metal fica entre dois imãs da seguinte maneira:\n",
    "\n",
    "\n",
    "<a href=\"https://ibb.co/Wctcvtz\"><img src=\"https://i.ibb.co/MR6Rk61/poicare6.png\" alt=\"poicare6\" border=\"0\"></a>\n",
    "\n",
    "$$\n",
    "\\dot{x}=y, \\quad \\dot{y}=-\\beta x-k y-\\alpha x^{3}+\\Gamma \\cos (\\theta), \\quad \\dot{\\theta}=\\omega\n",
    "$$\n",
    "\n"
   ]
  },
  {
   "cell_type": "markdown",
   "metadata": {
    "id": "SO_SWqbxMWCb"
   },
   "source": [
    "<a href=\"https://ibb.co/KWTGB9y\"><img src=\"https://i.ibb.co/sq8PcF3/poincar-5.png\" alt=\"poincar-5\" border=\"0\"></a>"
   ]
  },
  {
   "cell_type": "code",
   "execution_count": null,
   "metadata": {
    "colab": {
     "base_uri": "https://localhost:8080/",
     "height": 702
    },
    "id": "F8126Ng3EbXO",
    "outputId": "1215d170-d91a-4973-e532-a1fc18c1a1e1"
   },
   "outputs": [
    {
     "data": {
      "image/png": "[encoded data removed]",
      "text/plain": [
       "<Figure size 432x288 with 1 Axes>"
      ]
     },
     "metadata": {
      "needs_background": "light",
      "tags": []
     },
     "output_type": "display_data"
    },
    {
     "data": {
      "image/png": "[encoded data removed]",
      "text/plain": [
       "<Figure size 432x432 with 1 Axes>"
      ]
     },
     "metadata": {
      "needs_background": "light",
      "tags": []
     },
     "output_type": "display_data"
    }
   ],
   "source": [
    "# Program 09c: Phase portrait and Poincare section of a nonautonomous ODE.\n",
    "# See Figure 9.11(b).\n",
    "\n",
    "import matplotlib.pyplot as plt\n",
    "import numpy as np\n",
    "from scipy.integrate import odeint\n",
    "\n",
    "xmin, xmax = -2, 2\n",
    "ymin, ymax = -2, 2\n",
    "\n",
    "k = 0.3\n",
    "omega = 0.25\n",
    "gamma = 0.8\n",
    "\n",
    "def dx_dt(x, t):\n",
    "    return [x[1], x[0] - k*x[1] - x[0]**3 + gamma*np.cos(omega*t)]\n",
    "\n",
    "# Phase portrait\n",
    "t = np.linspace(0, 500, 10000)\n",
    "xs = odeint(dx_dt, [1,0], t)\n",
    "plt.plot(xs[:, 0], xs[:, 1], 'r-', lw=0.5)\n",
    "plt.xlabel('x', fontsize=15)\n",
    "plt.ylabel('y', fontsize=15)\n",
    "plt.tick_params(labelsize=15)\n",
    "plt.xlim(xmin, xmax)\n",
    "plt.ylim(ymin, ymax)\n",
    "plt.title('Phase portrait')\n",
    "\n",
    "# The Poincare section.\n",
    "fig, ax = plt.subplots(figsize=(6, 6))\n",
    "t = np.linspace(0, 4000 * (2*np.pi) / omega, 16000000)\n",
    "xs = odeint(dx_dt, [1, 0], t)\n",
    "\n",
    "x = [xs[4000*i, 0] for i in range(4000)]\n",
    "y = [xs[4000*i, 1] for i in range(4000)]\n",
    "\n",
    "ax.scatter(x, y, color='blue', s=0.1)\n",
    "plt.xlabel('x', fontsize=15)\n",
    "plt.ylabel('y', fontsize=15)\n",
    "plt.tick_params(labelsize=15)\n",
    "plt.title('The Poincare section')\n",
    "\n",
    "plt.show()\n"
   ]
  },
  {
   "cell_type": "markdown",
   "metadata": {
    "id": "K_GNnbXKO_wn"
   },
   "source": []
  },
  {
   "cell_type": "markdown",
   "metadata": {
    "id": "w9g6v9YcWhBD"
   },
   "source": [
    "Voltando Strogatz para uma abordagem mais formal da análise de estabilidade em órbitas periódicas.\n",
    "\n",
    "Vamos considerar  $\\dot{\\mathbf{x}}=\\mathbf{f}(\\mathbf{x})$ e $\\mathbf{x}^{*}+\\mathbf{v}_{0}$ uma pertubação infinitesimal.\n",
    "\n",
    "Então temos: \n",
    "\n",
    "\\begin{aligned}\n",
    "\\mathbf{x}^{*}+\\mathbf{v}_{1} &=P\\left(\\mathbf{x}^{*}+\\mathbf{v}_{0}\\right) \\\\\n",
    "&=P\\left(\\mathbf{x}^{*}\\right)+\\left[D P\\left(\\mathbf{x}^{*}\\right)\\right] \\mathbf{v}_{a}+O\\left(\\mid \\mathbf{v}_{0} \\|^{2}\\right)\n",
    "\\end{aligned}\n",
    "\n",
    "Aqui $D P\\left(\\mathbf{x}^{*}\\right)$ tem a forma $(n-1) \\times(n-1)$ e é chamada forma linearizada do mapa de POincaré em torno de $\\mathbf{x}^{*}=P\\left(\\mathbf{x}^{*}\\right)$\n",
    "\n",
    "A órbita é estável se todos os autovalores forem menores que 1. Podemos escrever os vetores como multiplo de um escalar e um autovetor e:\n",
    "$$\\mathbf{v}_{0}=\\sum_{j=1}^{n-1} v_{j} \\mathbf{e}_{j}$$\n",
    "\n",
    "\n",
    "$$\\mathbf{v}_{1}=\\left(D P\\left(\\mathbf{x}^{*}\\right)\\right) \\sum_{j=1}^{n-1} v_{j} \\mathbf{e}_{j}=\\sum_{j=1}^{n-1} v_{j} \\lambda_{j} \\mathbf{e}_{j}$$\n",
    "\n",
    "$$\\mathbf{v}_{k}=\\sum_{j=1}^{n-1} v_{j}\\left(\\lambda_{j}\\right)^{k} \\mathbf{e}_{j}$$\n"
   ]
  },
  {
   "cell_type": "markdown",
   "metadata": {
    "id": "SpHQlNmpWkl_"
   },
   "source": [
    "Exemplo de implementação em python para óbitas planetárias \n",
    "\n",
    "https://rebound.readthedocs.io/en/latest/ipython/PoincareMap.html\n"
   ]
  },
  {
   "cell_type": "markdown",
   "metadata": {
    "id": "VE8hj0rXgK5R"
   },
   "source": [
    "Bibliografia\n",
    "\n",
    "<ol>\n",
    "<li>\n",
    "Stuart, Andrew, and Anthony R. Humphries. Dynamical systems and numerical analysis. Vol. 2. Cambridge University Press, 1998\n",
    "</li>\n",
    "<li>\n",
    "Lynch, Stephen. Dynamical Systems with Applications Using Python. Birkhäuser, 2018.\n",
    "</li>\n",
    "<li>\n",
    "Tutorial 2: Tools from Nonlinear Dynamics \n",
    "http://www2.eng.cam.ac.uk/~mpj1001/papers/ARFM_Tutorial_2_text.pdf\n",
    "\n",
    "<li> Strogatz, Steven H. \"Nonlinear dynamics and chaos: with applications to physics.\" Biology, Chemistry and Engineering (1994) </li>\n",
    "</li>\n",
    "</ol>\n",
    "\n"
   ]
  }
 ],
 "metadata": {
  "colab": {
   "name": "Mapas de Poincaré_Lucas.ipynb",
   "provenance": []
  },
  "kernelspec": {
   "display_name": "Python 3",
   "language": "python",
   "name": "python3"
  },
  "language_info": {
   "codemirror_mode": {
    "name": "ipython",
    "version": 3
   },
   "file_extension": ".py",
   "mimetype": "text/x-python",
   "name": "python",
   "nbconvert_exporter": "python",
   "pygments_lexer": "ipython3",
   "version": "3.9.2"
  }
 },
 "nbformat": 4,
 "nbformat_minor": 1
}
