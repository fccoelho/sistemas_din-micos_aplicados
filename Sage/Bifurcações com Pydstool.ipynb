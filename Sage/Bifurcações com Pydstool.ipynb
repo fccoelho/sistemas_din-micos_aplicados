{
 "cells": [
  {
   "cell_type": "code",
   "execution_count": 1,
   "metadata": {
    "ExecuteTime": {
     "end_time": "2021-07-15T10:57:17.519631Z",
     "start_time": "2021-07-15T10:57:17.307448Z"
    }
   },
   "outputs": [],
   "source": [
    "import matplotlib.pyplot as plt\n",
    "%matplotlib inline"
   ]
  },
  {
   "cell_type": "code",
   "execution_count": 32,
   "metadata": {
    "ExecuteTime": {
     "end_time": "2021-07-15T13:39:23.512107Z",
     "start_time": "2021-07-15T13:39:23.507099Z"
    }
   },
   "outputs": [],
   "source": [
    "from PyDSTool import Par,Var,args, Generator, ContClass, pointset_to_traj, Pointset\n",
    "from time import process_time as clock"
   ]
  },
  {
   "cell_type": "markdown",
   "metadata": {},
   "source": [
    "# Analisando sistemas dinâmicos com o PyDSTool\n",
    "A biblioteca PyDSTool contém várias ferramentas para análise de sistemas dinâmicos incluindo a construção de diagramas de bifurcação.\n",
    "\n",
    "O Pydstool pode ser instalado via pip:\n",
    "```\n",
    "pip install pydstool\n",
    "```\n",
    "o código fonte com diversos exemplos de uso encontra-se no [Github](https://github.com/robclewley/pydstool/tree/master/examples)\n",
    "\n",
    "## Modelo predador presa 4D\n",
    "O modelo é um modelo predador presa de Rosenzweig-MacArthur, com duas sub-populações.\n",
    "\n",
    "\\begin{align*} \n",
    "v_1' &= v_1\\left(1-\\frac{v_1}{k}\\right) - \\frac{v_1 p_1}{(1+h v_1)} \\\\ \n",
    "v_2' &= v_2 \\left(1-\\frac{v_2}{k}\\right) - \\frac{v_2 p_2}{(1+h v_2)} \\\\ \n",
    "p_1' &= -1 \\mu p_1 + \\frac{v_1 p_1}{(1+h v_1)} + D \\left[\\left(\\frac{(1+\\theta h v_2)}{(1+h v_2)}\\right) p_2 - \\left(\\frac{(1+\\theta h v_1)}{(1+h v_1)}\\right) p_1\\right] \\\\ \n",
    "p_2' &= -1 \\mu p_2 + \\frac{v_2 p_2}{(1+h v_2)} + D \\left[\\left(\\frac{(1+\\theta h v_1)}{(1+h v_1)}\\right) p_1 - \\left(\\frac{(1+\\theta h v_2)}{(1+h v_2)}\\right) p_2\\right] \n",
    "\\end{align*}"
   ]
  },
  {
   "cell_type": "code",
   "execution_count": 23,
   "metadata": {
    "ExecuteTime": {
     "end_time": "2021-07-15T13:12:16.835446Z",
     "start_time": "2021-07-15T13:12:16.637541Z"
    }
   },
   "outputs": [],
   "source": [
    "# Declare names and initial values for (symbolic) parameters\n",
    "mu = Par(0.8, 'mu')\n",
    "k = Par(7, 'k')\n",
    "D = Par(0.5, 'D')\n",
    "theta = Par(1, 'theta')\n",
    "h = Par(0.5, 'h')\n",
    "\n",
    "# Compute nontrivial boundary equilibrium initial condition from parameters (see reference for derivation)\n",
    "v1_0 = mu*(2*D + mu) / (D*(1-h*mu-theta*h*mu) + mu*(1-h*mu))\n",
    "v2_0 = 0.0\n",
    "p1_0 = (1+h*v1_0)*(1-v1_0/k)\n",
    "p2_0 = (D/(D+mu))*(1+theta*h*v1_0)*(1-v1_0/k)\n",
    "\n",
    "# Declare symbolic variables\n",
    "v1 = Var('v1')\n",
    "v2 = Var('v2')\n",
    "p1 = Var('p1')\n",
    "p2 = Var('p2')\n",
    "\n",
    "# Create Symbolic Quantity objects for definitions\n",
    "v1rhs = v1*(1-v1/k) - v1*p1/(1+h*v1)\n",
    "v2rhs = v2*(1-v2/k) - v2*p2/(1+h*v2)\n",
    "p1rhs = -1*mu*p1 + v1*p1/(1+h*v1) + D*(((1+theta*h*v2)/(1+h*v2))*p2 - ((1+theta*h*v1)/(1+h*v1))*p1)\n",
    "p2rhs = -1*mu*p2 + v2*p2/(1+h*v2) + D*(((1+theta*h*v1)/(1+h*v1))*p1 - ((1+theta*h*v2)/(1+h*v2))*p2)\n",
    "\n",
    "# Build Generator\n",
    "DSargs = args(name='PredatorPrey')\n",
    "DSargs.pars = [mu, k, D, theta, h]\n",
    "DSargs.varspecs = args(v1=v1rhs,\n",
    "                       v2=v2rhs,\n",
    "                       p1=p1rhs,\n",
    "                       p2=p2rhs)\n",
    "# Use eval method to get a float value from the symbolic definitions given in\n",
    "# terms of parameter values\n",
    "DSargs.ics = args(v1=v1_0.eval(), v2=v2_0, p1=p1_0.eval(), p2=p2_0.eval())\n",
    "ode = Generator.Vode_ODEsystem(DSargs)"
   ]
  },
  {
   "cell_type": "code",
   "execution_count": 28,
   "metadata": {
    "ExecuteTime": {
     "end_time": "2021-07-15T13:18:48.523745Z",
     "start_time": "2021-07-15T13:18:47.829738Z"
    }
   },
   "outputs": [
    {
     "data": {
      "image/png": "[encoded data removed]",
      "text/plain": [
       "<Figure size 432x288 with 1 Axes>"
      ]
     },
     "metadata": {
      "needs_background": "light"
     },
     "output_type": "display_data"
    }
   ],
   "source": [
    "ode.set(tdata=[0,100])\n",
    "traj = ode.compute('Exemplo')\n",
    "pts = traj.sample()\n",
    "plt.plot(pts['t'], pts['v1'], label='v1')\n",
    "plt.plot(pts['t'], pts['p1'], label='p1')\n",
    "plt.legend()\n",
    "plt.xlabel('t');"
   ]
  },
  {
   "cell_type": "code",
   "execution_count": 29,
   "metadata": {
    "ExecuteTime": {
     "end_time": "2021-07-15T13:31:22.769746Z",
     "start_time": "2021-07-15T13:31:04.323891Z"
    }
   },
   "outputs": [
    {
     "name": "stdout",
     "output_type": "stream",
     "text": [
      "Computing curve...\n",
      "Checking...\n",
      "  |q| = 1.000000\n",
      "  |<p,q> - 1| =  1.1102314949223176e-16\n",
      "  |Aq - iwq| = 0.000000\n",
      "  |A*p + iwp| = 0.000000\n",
      "\n",
      "H Point found \n",
      "========================== \n",
      "0 : \n",
      "p1  =  1.478415090015924\n",
      "p2  =  0.5686211884676631\n",
      "v1  =  2.4827586206896552\n",
      "v2  =  0.0\n",
      "k  =  7.2936628700558765\n",
      "\n",
      "Eigenvalues = \n",
      "\n",
      "     (-0.000000,0.537392)\n",
      "     (-0.000000,-0.537392)\n",
      "     (-1.467390,0.000000)\n",
      "     (0.431379,0.000000)\n",
      "\n",
      "\n",
      "w = 0.5373921552564828\n",
      "l1 = -0.00018478323732232932\n",
      "\n",
      "done in 3.267 seconds!\n",
      "Computing Hopf curve...\n",
      "ZH Point found \n",
      "========================== \n",
      "0 : \n",
      "p1  =  1.7156914765210558\n",
      "p2  =  1.0000000021490956\n",
      "v1  =  3.451702898245245\n",
      "v2  =  -1.5732814882515794e-25\n",
      "k  =  9.314197357168144\n",
      "D  =  1.1178001001357456\n",
      "_k  =  0.22064685431715172\n",
      "\n",
      "Eigenvalues = \n",
      "\n",
      "     (-2.541392,0.000000)\n",
      "     (-0.000000,0.469731)\n",
      "     (-0.000000,-0.469731)\n",
      "     (-0.000000,0.000000)\n",
      "\n",
      "\n",
      "done in 32.265 seconds!\n"
     ]
    },
    {
     "data": {
      "image/png": "[encoded data removed]",
      "text/plain": [
       "<Figure size 1080x576 with 1 Axes>"
      ]
     },
     "metadata": {
      "needs_background": "light"
     },
     "output_type": "display_data"
    }
   ],
   "source": [
    "# Set up continuation class\n",
    "PC = ContClass(ode)\n",
    "\n",
    "PCargs = args(name='EQ1', type='EP-C')\n",
    "PCargs.freepars = ['k']\n",
    "PCargs.StepSize = 1e-2\n",
    "PCargs.MaxNumPoints = 50\n",
    "PCargs.MaxStepSize = 1e-1\n",
    "PCargs.LocBifPoints = 'all'\n",
    "PCargs.SaveEigen = True\n",
    "PCargs.verbosity = 2\n",
    "PC.newCurve(PCargs)\n",
    "\n",
    "print ('Computing curve...')\n",
    "start = clock()\n",
    "PC['EQ1'].forward()\n",
    "print ('done in %.3f seconds!' % (clock()-start))\n",
    "\n",
    "PCargs.name = 'HO1'\n",
    "PCargs.type = 'H-C2'\n",
    "PCargs.initpoint = 'EQ1:H1'\n",
    "PCargs.freepars = ['k','D']\n",
    "PCargs.MaxNumPoints = 50\n",
    "PCargs.MaxStepSize = 0.1\n",
    "PCargs.LocBifPoints = ['ZH']\n",
    "PCargs.SaveEigen = True\n",
    "PC.newCurve(PCargs)\n",
    "\n",
    "print ('Computing Hopf curve...')\n",
    "start = clock()\n",
    "PC['HO1'].forward()\n",
    "print ('done in %.3f seconds!' % (clock()-start))\n",
    "\n",
    "PCargs = args(name = 'FO1', type = 'LP-C')\n",
    "PCargs.initpoint = 'HO1:ZH1'\n",
    "PCargs.freepars = ['k','D']\n",
    "PCargs.MaxNumPoints = 25\n",
    "PCargs.MaxStepSize = 0.1\n",
    "PCargs.LocBifPoints = 'all'\n",
    "PCargs.SaveEigen = True\n",
    "PC.newCurve(PCargs)\n",
    "\n",
    "# Plot bifurcation diagram\n",
    "fig,ax = plt.subplots(1,figsize=(15,8))\n",
    "PC.display(('k','D'), stability=True,axes=ax, figure=1)\n",
    "plt.title('Bifurcation diagram of equilibria in (k,D) parameters');"
   ]
  },
  {
   "cell_type": "markdown",
   "metadata": {},
   "source": [
    "### Soluções emanando a partir de um ponto de Bifurcação Hopf"
   ]
  },
  {
   "cell_type": "code",
   "execution_count": 33,
   "metadata": {
    "ExecuteTime": {
     "end_time": "2021-07-15T13:39:35.947494Z",
     "start_time": "2021-07-15T13:39:35.938756Z"
    }
   },
   "outputs": [
    {
     "name": "stdout",
     "output_type": "stream",
     "text": [
      "k values found around 9.0 are 8.988, 9.071\n",
      "Hopf point found for k = 8.988 is stable? No\n"
     ]
    }
   ],
   "source": [
    "# D value increases monotonically with k, so let's find the value at k=9.0\n",
    "# by linear interpolation from the points found by PyCont\n",
    "hopfs_unparam = PC['HO1'].sol[['D','v1','v2','p1','p2']]\n",
    "hopfs = Pointset(indepvararray=PC['HO1'].sol['k'], indepvarname='k',\n",
    "                 coorddict=hopfs_unparam.todict())\n",
    "ix0, ix1 = hopfs.find(9)\n",
    "print(\"k values found around 9.0 are %.3f, %.3f\" % ( hopfs['k'][ix0], hopfs['k'][ix1] ))\n",
    "\n",
    "# Arbitrarily choose closest lower index to check stability\n",
    "print(\"Hopf point found for k = %.3f is stable?\" % hopfs['k'][ix0], end=' ')\n",
    "if PC['HO1'].sol[ix0].labels['H']['stab'] == 'N':\n",
    "    print(\"No\")\n",
    "else:\n",
    "    print(\"Yes\")"
   ]
  },
  {
   "cell_type": "code",
   "execution_count": 34,
   "metadata": {
    "ExecuteTime": {
     "end_time": "2021-07-15T13:39:56.512585Z",
     "start_time": "2021-07-15T13:39:56.506496Z"
    }
   },
   "outputs": [],
   "source": [
    "# Create interpolatable curve from the pointset\n",
    "hopfs_curve = pointset_to_traj(hopfs)\n",
    "# Interpolate unstable Hopf equilibrium values of parameters/variables at k=9\n",
    "Hpt = hopfs_curve(9.0)"
   ]
  },
  {
   "cell_type": "code",
   "execution_count": 35,
   "metadata": {
    "ExecuteTime": {
     "end_time": "2021-07-15T13:40:48.551988Z",
     "start_time": "2021-07-15T13:40:47.668181Z"
    }
   },
   "outputs": [
    {
     "data": {
      "image/png": "[encoded data removed]",
      "text/plain": [
       "<Figure size 432x288 with 1 Axes>"
      ]
     },
     "metadata": {
      "needs_background": "light"
     },
     "output_type": "display_data"
    },
    {
     "data": {
      "image/png": "[encoded data removed]",
      "text/plain": [
       "<Figure size 432x288 with 1 Axes>"
      ]
     },
     "metadata": {
      "needs_background": "light"
     },
     "output_type": "display_data"
    }
   ],
   "source": [
    "# extract the variables defined for 'ode' Generator\n",
    "Hics = Hpt[ode.funcspec.vars]\n",
    "# perturb slightly off equilibrium\n",
    "Hics['v2'] += 0.01\n",
    "# extract the parameter value for D and indicate on bifurcation diagram\n",
    "plt.plot(9.0, Hpt['D'], 'go')\n",
    "\n",
    "ode.set(tdata=[0,100],\n",
    "        pars={'k': 9.0, 'D': Hpt['D']},\n",
    "        ics=Hics)\n",
    "traj = ode.compute('test')\n",
    "pts = traj.sample()\n",
    "\n",
    "fig = plt.figure()\n",
    "try:\n",
    "    ax = fig.gca(projection='3d')\n",
    "except ValueError:\n",
    "    # pre-v1.0 version of Matplotlib\n",
    "    ax = Axes3D(fig)\n",
    "ax.plot(pts['v1'], pts['p1'], pts['p2'],\n",
    "        label='Unstable periodic sol starting near eqm')\n",
    "# to ensure your version accepts singleton points, enclose in extra brackets!\n",
    "ax.plot(pts[[0]]['v1'], pts[[0]]['p1'], pts[[0]]['p2'], 'go', label='Initial condition')\n",
    "ax.legend()\n",
    "ax.set_xlabel('v1')\n",
    "ax.set_ylabel('p1')\n",
    "ax.set_zlabel('p2')\n",
    "# 3D projection (v1,p1,p2) of unstable periodic sol. starting near eqm.\n",
    "plt.draw()"
   ]
  },
  {
   "cell_type": "code",
   "execution_count": 16,
   "metadata": {
    "ExecuteTime": {
     "end_time": "2021-07-15T11:52:21.614693Z",
     "start_time": "2021-07-15T11:52:21.603767Z"
    }
   },
   "outputs": [
    {
     "name": "stdout",
     "output_type": "stream",
     "text": [
      "ContClass of model PredatorPrey\n",
      "Containing curves: \n",
      "  EQ1 (type EP-C)\n",
      "  HO1 (type H-C2)\n",
      "  FO1 (type LP-C)\n"
     ]
    }
   ],
   "source": [
    "PC.info()"
   ]
  },
  {
   "cell_type": "code",
   "execution_count": null,
   "metadata": {},
   "outputs": [],
   "source": []
  }
 ],
 "metadata": {
  "hide_input": false,
  "kernelspec": {
   "display_name": "Python 3",
   "language": "python",
   "name": "python3"
  },
  "language_info": {
   "codemirror_mode": {
    "name": "ipython",
    "version": 3
   },
   "file_extension": ".py",
   "mimetype": "text/x-python",
   "name": "python",
   "nbconvert_exporter": "python",
   "pygments_lexer": "ipython3",
   "version": "3.8.10"
  },
  "latex_envs": {
   "LaTeX_envs_menu_present": true,
   "autoclose": false,
   "autocomplete": true,
   "bibliofile": "biblio.bib",
   "cite_by": "apalike",
   "current_citInitial": 1,
   "eqLabelWithNumbers": true,
   "eqNumInitial": 1,
   "hotkeys": {
    "equation": "Ctrl-E",
    "itemize": "Ctrl-I"
   },
   "labels_anchors": false,
   "latex_user_defs": false,
   "report_style_numbering": false,
   "user_envs_cfg": false
  },
  "nbTranslate": {
   "displayLangs": [
    "*"
   ],
   "hotkey": "alt-t",
   "langInMainMenu": true,
   "sourceLang": "en",
   "targetLang": "fr",
   "useGoogleTranslate": true
  },
  "toc": {
   "base_numbering": 1,
   "nav_menu": {},
   "number_sections": true,
   "sideBar": true,
   "skip_h1_title": false,
   "title_cell": "Table of Contents",
   "title_sidebar": "Contents",
   "toc_cell": false,
   "toc_position": {},
   "toc_section_display": true,
   "toc_window_display": false
  },
  "varInspector": {
   "cols": {
    "lenName": 16,
    "lenType": 16,
    "lenVar": 40
   },
   "kernels_config": {
    "python": {
     "delete_cmd_postfix": "",
     "delete_cmd_prefix": "del ",
     "library": "var_list.py",
     "varRefreshCmd": "print(var_dic_list())"
    },
    "r": {
     "delete_cmd_postfix": ") ",
     "delete_cmd_prefix": "rm(",
     "library": "var_list.r",
     "varRefreshCmd": "cat(var_dic_list()) "
    }
   },
   "types_to_exclude": [
    "module",
    "function",
    "builtin_function_or_method",
    "instance",
    "_Feature"
   ],
   "window_display": false
  }
 },
 "nbformat": 4,
 "nbformat_minor": 2
}
