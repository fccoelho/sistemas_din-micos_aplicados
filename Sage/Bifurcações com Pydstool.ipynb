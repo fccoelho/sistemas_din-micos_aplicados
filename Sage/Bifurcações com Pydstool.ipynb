{
 "cells": [
  {
   "cell_type": "code",
   "execution_count": 1,
   "metadata": {},
   "outputs": [
    {
     "name": "stdout",
     "output_type": "stream",
     "text": [
      "Populating the interactive namespace from numpy and matplotlib\n"
     ]
    }
   ],
   "source": [
    "import matplotlib.pyplot as plt\n",
    "%matplotlib inline"
   ]
  },
  {
   "cell_type": "code",
   "execution_count": 14,
   "metadata": {},
   "outputs": [],
   "source": [
    "from PyDSTool import Par,Var,args, Generator, ContClass, pointset_to_traj\n",
    "from time import process_time as clock"
   ]
  },
  {
   "cell_type": "markdown",
   "metadata": {},
   "source": [
    "# Analisando sistemas dinâmicos com o PyDSTool\n",
    "A biblioteca PyDSTool contém várias ferramentas para análise de sistemas dinâmicos incluindo a construção de diagramas de bifurcação.\n",
    "\n",
    "O Pydstool pode ser instalado via pip:\n",
    "```\n",
    "pip install pydstool\n",
    "```\n",
    "o código fonte com diversos exemplos de uso encontra-se no [Github](https://github.com/robclewley/pydstool/tree/master/examples)\n",
    "\n",
    "## Modelo predador presa 4D\n",
    "O modelo é um modelo predador presa de Rosenzweig-MacArthur, com duas sub-populações.\n",
    "\n",
    "\\begin{align*} \n",
    "v_1' &= v_1\\left(1-\\frac{v_1}{k}\\right) - \\frac{v_1 p_1}{(1+h v_1)} \\\\ \n",
    "v_2' &= v_2 \\left(1-\\frac{v_2}{k}\\right) - \\frac{v_2 p_2}{(1+h v_2)} \\\\ \n",
    "p_1' &= -1 \\mu p_1 + \\frac{v_1 p_1}{(1+h v_1)} + D \\left[\\left(\\frac{(1+\\theta h v_2)}{(1+h v_2)}\\right) p_2 - \\left(\\frac{(1+\\theta h v_1)}{(1+h v_1)}\\right) p_1\\right] \\\\ \n",
    "p_2' &= -1 \\mu p_2 + \\frac{v_2 p_2}{(1+h v_2)} + D \\left[\\left(\\frac{(1+\\theta h v_1)}{(1+h v_1)}\\right) p_1 - \\left(\\frac{(1+\\theta h v_2)}{(1+h v_2)}\\right) p_2\\right] \n",
    "\\end{align*}"
   ]
  },
  {
   "cell_type": "code",
   "execution_count": 3,
   "metadata": {},
   "outputs": [],
   "source": [
    "# Declare names and initial values for (symbolic) parameters\n",
    "mu = Par(0.8, 'mu')\n",
    "k = Par(7, 'k')\n",
    "D = Par(0.5, 'D')\n",
    "theta = Par(1, 'theta')\n",
    "h = Par(0.5, 'h')\n",
    "\n",
    "# Compute nontrivial boundary equilibrium initial condition from parameters (see reference for derivation)\n",
    "v1_0 = mu*(2*D + mu) / (D*(1-h*mu-theta*h*mu) + mu*(1-h*mu))\n",
    "v2_0 = 0.0\n",
    "p1_0 = (1+h*v1_0)*(1-v1_0/k)\n",
    "p2_0 = (D/(D+mu))*(1+theta*h*v1_0)*(1-v1_0/k)\n",
    "\n",
    "# Declare symbolic variables\n",
    "v1 = Var('v1')\n",
    "v2 = Var('v2')\n",
    "p1 = Var('p1')\n",
    "p2 = Var('p2')\n",
    "\n",
    "# Create Symbolic Quantity objects for definitions\n",
    "v1rhs = v1*(1-v1/k) - v1*p1/(1+h*v1)\n",
    "v2rhs = v2*(1-v2/k) - v2*p2/(1+h*v2)\n",
    "p1rhs = -1*mu*p1 + v1*p1/(1+h*v1) + D*(((1+theta*h*v2)/(1+h*v2))*p2 - ((1+theta*h*v1)/(1+h*v1))*p1)\n",
    "p2rhs = -1*mu*p2 + v2*p2/(1+h*v2) + D*(((1+theta*h*v1)/(1+h*v1))*p1 - ((1+theta*h*v2)/(1+h*v2))*p2)\n",
    "\n",
    "# Build Generator\n",
    "DSargs = args(name='PredatorPrey')\n",
    "DSargs.pars = [mu, k, D, theta, h]\n",
    "DSargs.varspecs = args(v1=v1rhs,\n",
    "                       v2=v2rhs,\n",
    "                       p1=p1rhs,\n",
    "                       p2=p2rhs)\n",
    "# Use eval method to get a float value from the symbolic definitions given in\n",
    "# terms of parameter values\n",
    "DSargs.ics = args(v1=v1_0.eval(), v2=v2_0, p1=p1_0.eval(), p2=p2_0.eval())\n",
    "ode = Generator.Vode_ODEsystem(DSargs)\n"
   ]
  },
  {
   "cell_type": "code",
   "execution_count": 13,
   "metadata": {},
   "outputs": [
    {
     "name": "stdout",
     "output_type": "stream",
     "text": [
      "Computing curve...\n",
      "Checking...\n",
      "  |q| = 1.000000\n",
      "  |<p,q> - 1| =  2.2228841655759984e-16\n",
      "  |Aq - iwq| = 0.000000\n",
      "  |A*p + iwp| = 0.000000\n",
      "\n",
      "H Point found \n",
      "========================== \n",
      "0 : \n",
      "p1  =  1.478415090038952\n",
      "p2  =  0.56862118847652\n",
      "v1  =  2.4827586206896552\n",
      "v2  =  0.0\n",
      "k  =  7.293662870276017\n",
      "\n",
      "Eigenvalues = \n",
      "\n",
      "     (-0.000000,0.537392)\n",
      "     (-0.000000,-0.537392)\n",
      "     (-1.467390,0.000000)\n",
      "     (0.431379,0.000000)\n",
      "\n",
      "\n",
      "w = 0.5373921552247817\n",
      "l1 = -0.00018478375251607115\n",
      "\n",
      "done in 0.919 seconds!\n",
      "Computing Hopf curve...\n",
      "ZH Point found \n",
      "========================== \n",
      "0 : \n",
      "p1  =  1.7156914767018123\n",
      "p2  =  1.000000001748777\n",
      "v1  =  3.4517028964932788\n",
      "v2  =  1.343656236396654e-25\n",
      "k  =  9.314197359191043\n",
      "D  =  1.117800098780719\n",
      "_k  =  0.22064685456578484\n",
      "\n",
      "Eigenvalues = \n",
      "\n",
      "     (-2.541392,0.000000)\n",
      "     (0.000000,0.469731)\n",
      "     (0.000000,-0.469731)\n",
      "     (-0.000000,0.000000)\n",
      "\n",
      "\n",
      "done in 10.086 seconds!\n"
     ]
    },
    {
     "name": "stderr",
     "output_type": "stream",
     "text": [
      "/home/fccoelho/Downloads/SageMath/local/lib/python3.7/site-packages/matplotlib/cbook/deprecation.py:107: MatplotlibDeprecationWarning: Using pyplot.axes(ax) with ax an Axes argument is deprecated. Please use pyplot.sca(ax) instead.\n",
      "  warnings.warn(message, mplDeprecation, stacklevel=1)\n"
     ]
    },
    {
     "data": {
      "text/plain": [
       "Text(0.5,1,'Bifurcation diagram of equilibria in (k,D) parameters')"
      ]
     },
     "execution_count": 13,
     "metadata": {},
     "output_type": "execute_result"
    },
    {
     "data": {
      "image/png": "[encoded data removed]",
      "text/plain": [
       "<Figure size 1080x576 with 1 Axes>"
      ]
     },
     "metadata": {},
     "output_type": "display_data"
    }
   ],
   "source": [
    "# Set up continuation class\n",
    "PC = ContClass(ode)\n",
    "\n",
    "PCargs = args(name='EQ1', type='EP-C')\n",
    "PCargs.freepars = ['k']\n",
    "PCargs.StepSize = 1e-2\n",
    "PCargs.MaxNumPoints = 50\n",
    "PCargs.MaxStepSize = 1e-1\n",
    "PCargs.LocBifPoints = 'all'\n",
    "PCargs.SaveEigen = True\n",
    "PCargs.verbosity = 2\n",
    "PC.newCurve(PCargs)\n",
    "\n",
    "print ('Computing curve...')\n",
    "start = clock()\n",
    "PC['EQ1'].forward()\n",
    "print ('done in %.3f seconds!' % (clock()-start))\n",
    "\n",
    "PCargs.name = 'HO1'\n",
    "PCargs.type = 'H-C2'\n",
    "PCargs.initpoint = 'EQ1:H1'\n",
    "PCargs.freepars = ['k','D']\n",
    "PCargs.MaxNumPoints = 50\n",
    "PCargs.MaxStepSize = 0.1\n",
    "PCargs.LocBifPoints = ['ZH']\n",
    "PCargs.SaveEigen = True\n",
    "PC.newCurve(PCargs)\n",
    "\n",
    "print ('Computing Hopf curve...')\n",
    "start = clock()\n",
    "PC['HO1'].forward()\n",
    "print ('done in %.3f seconds!' % (clock()-start))\n",
    "\n",
    "PCargs = args(name = 'FO1', type = 'LP-C')\n",
    "PCargs.initpoint = 'HO1:ZH1'\n",
    "PCargs.freepars = ['k','D']\n",
    "PCargs.MaxNumPoints = 25\n",
    "PCargs.MaxStepSize = 0.1\n",
    "PCargs.LocBifPoints = 'all'\n",
    "PCargs.SaveEigen = True\n",
    "PC.newCurve(PCargs)\n",
    "\n",
    "# Plot bifurcation diagram\n",
    "fig,ax = plt.subplots(1,figsize=(15,8))\n",
    "PC.display(('k','D'), stability=True,axes=ax, figure=1)\n",
    "plt.title('Bifurcation diagram of equilibria in (k,D) parameters');"
   ]
  },
  {
   "cell_type": "markdown",
   "metadata": {},
   "source": [
    "### Soluções emanando a partir de um ponto de Bifurcação Hopf"
   ]
  },
  {
   "cell_type": "code",
   "execution_count": 15,
   "metadata": {},
   "outputs": [
    {
     "ename": "NameError",
     "evalue": "name 'hopfs' is not defined",
     "output_type": "error",
     "traceback": [
      "\u001b[0;31m---------------------------------------------------------------------------\u001b[0m",
      "\u001b[0;31mNameError\u001b[0m                                 Traceback (most recent call last)",
      "\u001b[0;32m<ipython-input-15-bd71d3f4ecaa>\u001b[0m in \u001b[0;36m<module>\u001b[0;34m()\u001b[0m\n\u001b[1;32m      1\u001b[0m \u001b[0;31m# Create interpolatable curve from the pointset\u001b[0m\u001b[0;34m\u001b[0m\u001b[0;34m\u001b[0m\u001b[0;34m\u001b[0m\u001b[0m\n\u001b[0;32m----> 2\u001b[0;31m \u001b[0mhopfs_curve\u001b[0m \u001b[0;34m=\u001b[0m \u001b[0mpointset_to_traj\u001b[0m\u001b[0;34m(\u001b[0m\u001b[0mhopfs\u001b[0m\u001b[0;34m)\u001b[0m\u001b[0;34m\u001b[0m\u001b[0;34m\u001b[0m\u001b[0m\n\u001b[0m\u001b[1;32m      3\u001b[0m \u001b[0;31m# Interpolate unstable Hopf equilibrium values of parameters/variables at k=9\u001b[0m\u001b[0;34m\u001b[0m\u001b[0;34m\u001b[0m\u001b[0;34m\u001b[0m\u001b[0m\n\u001b[1;32m      4\u001b[0m \u001b[0mHpt\u001b[0m \u001b[0;34m=\u001b[0m \u001b[0mhopfs_curve\u001b[0m\u001b[0;34m(\u001b[0m\u001b[0;36m9.0\u001b[0m\u001b[0;34m)\u001b[0m\u001b[0;34m\u001b[0m\u001b[0;34m\u001b[0m\u001b[0m\n",
      "\u001b[0;31mNameError\u001b[0m: name 'hopfs' is not defined"
     ]
    }
   ],
   "source": [
    "# Create interpolatable curve from the pointset\n",
    "hopfs_curve = pointset_to_traj(hopfs)\n",
    "# Interpolate unstable Hopf equilibrium values of parameters/variables at k=9\n",
    "Hpt = hopfs_curve(9.0)"
   ]
  },
  {
   "cell_type": "code",
   "execution_count": 27,
   "metadata": {},
   "outputs": [],
   "source": [
    "pointset_to_traj??"
   ]
  },
  {
   "cell_type": "code",
   "execution_count": 18,
   "metadata": {},
   "outputs": [],
   "source": [
    "h =PC['HO1']"
   ]
  },
  {
   "cell_type": "code",
   "execution_count": 25,
   "metadata": {},
   "outputs": [
    {
     "data": {
      "text/plain": [
       "{'EQ1': PyCont curve EQ1 (type EP-C),\n",
       " 'HO1': PyCont curve HO1 (type H-C2),\n",
       " 'FO1': PyCont curve FO1 (type LP-C)}"
      ]
     },
     "execution_count": 25,
     "metadata": {},
     "output_type": "execute_result"
    }
   ],
   "source": [
    "PC.curves"
   ]
  },
  {
   "cell_type": "code",
   "execution_count": 28,
   "metadata": {},
   "outputs": [],
   "source": [
    "PC['EQ1'].forward()"
   ]
  },
  {
   "cell_type": "code",
   "execution_count": null,
   "metadata": {},
   "outputs": [],
   "source": [
    "h."
   ]
  }
 ],
 "metadata": {
  "kernelspec": {
   "display_name": "Python 3",
   "language": "python",
   "name": "python3"
  },
  "language_info": {
   "codemirror_mode": {
    "name": "ipython",
    "version": 3
   },
   "file_extension": ".py",
   "mimetype": "text/x-python",
   "name": "python",
   "nbconvert_exporter": "python",
   "pygments_lexer": "ipython3",
   "version": "3.7.3"
  }
 },
 "nbformat": 4,
 "nbformat_minor": 2
}
