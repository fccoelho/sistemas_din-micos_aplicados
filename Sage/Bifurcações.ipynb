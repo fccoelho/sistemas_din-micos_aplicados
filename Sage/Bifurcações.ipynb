{
 "cells": [
  {
   "cell_type": "code",
   "execution_count": 2,
   "metadata": {},
   "outputs": [],
   "source": [
    "%display typeset"
   ]
  },
  {
   "cell_type": "markdown",
   "metadata": {},
   "source": [
    "# Bifurcações\n",
    "### Dager Moreira\n",
    "\n",
    "Trata-de do estudo da variabilidade dos parâmetros das EDOs e consequente alterações na estrutura das linhas de fluxos dos campos vetoriais."
   ]
  },
  {
   "cell_type": "markdown",
   "metadata": {},
   "source": [
    "Na prática, a estrutura qualitativa do fluxo pode mudar quando os parâmetros são variados, acarretando a mudança dos **pontos fixos**, que tanto podem ser criados ou mesmo aniquilados, que significam alterações na estabilidade do sistema. A essas mudanças qualitativas é que se dá o nome de **bifurcações**.\n",
    "\n",
    "Aos valores dos parâmetros em que ocorrem as bifurcações, denomina-se: **pontos de bifurcação**.\n",
    "    \n",
    "Daí, a importância no estudo de sistemas dinâmicos pois fornecem aos modelos estudados informações úteis a respeito das transições dos pontos fixos e instabilidades quando algum parâmetro de controle é variado."
   ]
  },
  {
   "cell_type": "markdown",
   "metadata": {},
   "source": [
    "![coluna](fig301.png)\n",
    "#(C/Users/Delta/Documents/DELTADELTA/FGV/SDA/Bifurcação/fig301.png)"
   ]
  },
  {
   "cell_type": "markdown",
   "metadata": {},
   "source": [
    "# Bifurcação sela-nó\n",
    "\n",
    "Um tipo de bifurcação, onde o mecanismo é determinado pela forma, onde os pontos fixos são criados e destruidos.\n",
    "\n",
    "Quando o parâmetro é variado, os pontos fixos se movem um em direção ao outro, colidem e se aniquilam mutuamente."
   ]
  },
  {
   "cell_type": "markdown",
   "metadata": {},
   "source": [
    "#### Exemplo de bifurcação tipo sela-nó.\n",
    "\n",
    "$$x^{'} = r + x^{2} \\qquad \\qquad (i)$$\n",
    "     \n",
    "$r$: parâmetro real "
   ]
  },
  {
   "cell_type": "markdown",
   "metadata": {},
   "source": [
    "![figura311](fig311.png)"
   ]
  },
  {
   "cell_type": "markdown",
   "metadata": {},
   "source": [
    "## Diagrama de Bifurcação\n",
    "\n",
    "Mostra as regiões de estabilidade e instabilidade."
   ]
  },
  {
   "cell_type": "markdown",
   "metadata": {},
   "source": [
    "![figura311](fig313.png)"
   ]
  },
  {
   "cell_type": "markdown",
   "metadata": {},
   "source": [
    "Mas o mais comum, é a forma abaixo: "
   ]
  },
  {
   "cell_type": "markdown",
   "metadata": {},
   "source": [
    "![figura314](fig314.png)"
   ]
  },
  {
   "cell_type": "markdown",
   "metadata": {},
   "source": [
    "Vamos tomar agora:\n",
    "    $$x^{'} = r - x^{2}, \\qquad \\qquad (ii)$$"
   ]
  },
  {
   "cell_type": "markdown",
   "metadata": {},
   "source": [
    "![figura315](fig315.png)"
   ]
  },
  {
   "cell_type": "markdown",
   "metadata": {},
   "source": [
    "Outro exemplo, para generalização:\n",
    "    $$x^{} = r - x - e^{-x}, \\qquad \\qquad (iii)$$\n",
    "    \n",
    "Desta maneira como a função está, não é possível encontrar os pontos fixos explicitamente como uma função de $r$.\n",
    "\n",
    "O que se faz, recorre-se à geometria. Da linearidade de $f(x)$ podemos expressar: $f(x) = f_{1}(x) + f_{2}(x)$ e graficar as curvas para análise."
   ]
  },
  {
   "cell_type": "markdown",
   "metadata": {},
   "source": [
    "![figura316](fig316.png)"
   ]
  },
  {
   "cell_type": "markdown",
   "metadata": {},
   "source": [
    "## Caracterização\n",
    "\n",
    "A partir da expansão de Taylor de $\\; f_{2}(x) = e^{-x} \\;$, teremos:\n",
    "\n",
    "\\begin{equation*}\n",
    "    \\begin{array}{rll}\n",
    "        x^{'} & = & r - x - e^{-x} \\\\\n",
    "        & = & r - x - \\left[1 - x + \\dfrac{x^{2}}{2!} - \\dfrac{x^{3}}{3!} + ...\\right], \\quad \\text{tomando os termos resultantes até a ordem 2 de aproximação:} \\\\ \\\\ \\\\ \\\\\n",
    "        & \\approx & (r - 1) - \\dfrac{x^{2}}{2}, \\quad \\quad (*) \\\\ \\\\\n",
    "    \\end{array}\n",
    "\\end{equation*}\n",
    "que caracteriza a **FORMA NORMAL** da bifurcação sela-nó: $\\quad x^{'} = r - x^{2}\\quad$ ou $\\quad x^{'} = r + x^{2},\\quad$ para a aproximação (*)."
   ]
  },
  {
   "cell_type": "markdown",
   "metadata": {},
   "source": [
    "É importante lembrar que a análise deve ser localmente."
   ]
  },
  {
   "cell_type": "markdown",
   "metadata": {},
   "source": [
    "![figura317](fig317.png)"
   ]
  },
  {
   "cell_type": "markdown",
   "metadata": {},
   "source": [
    "## Bifurcação Transcrítica\n",
    "Há situações físicas onde os pontos fixos nunca desaparecem, para todos os valores do parâmetro $r$."
   ]
  },
  {
   "cell_type": "markdown",
   "metadata": {},
   "source": [
    "Um exemplo onde ocorrem a bifurcação transcrítica são as equações logísticas que modelam sistemas ecológicos e de populações."
   ]
  },
  {
   "cell_type": "markdown",
   "metadata": {},
   "source": [
    "![figura321](fig321.png)"
   ]
  },
  {
   "cell_type": "markdown",
   "metadata": {},
   "source": [
    "![figura322](fig322.png)"
   ]
  },
  {
   "cell_type": "markdown",
   "metadata": {},
   "source": [
    "## Bifurcação Pitchfork\n",
    "\n",
    "Um terceiro tipo de bifurcação, em geral aparecem em problemas físicos que envolvam simetrias."
   ]
  },
  {
   "cell_type": "markdown",
   "metadata": {},
   "source": [
    "# Bifurcação Pitchfork supercrítica\n",
    "\n",
    "Por exemplo:\n",
    "    $$x^{'} = rx - x^{3} \\qquad \\qquad (iv)$$\n",
    "         \n",
    "Note que esta equação é invariante sob a mudança de variável $x \\mapsto -x$"
   ]
  },
  {
   "cell_type": "markdown",
   "metadata": {},
   "source": [
    "![figura341](fig341.png)"
   ]
  },
  {
   "cell_type": "markdown",
   "metadata": {},
   "source": [
    "O diagrama de bifurcação correspondente:"
   ]
  },
  {
   "cell_type": "markdown",
   "metadata": {},
   "source": [
    "![figura342](fig342.png)"
   ]
  },
  {
   "cell_type": "markdown",
   "metadata": {},
   "source": [
    "Outro exemplo:\n",
    "    $$x^{'} = -x + \\beta \\, tanh \\,x, \\qquad \\qquad (v)$$"
   ]
  },
  {
   "cell_type": "markdown",
   "metadata": {},
   "source": [
    "![figura343](fig343.png)"
   ]
  },
  {
   "cell_type": "markdown",
   "metadata": {},
   "source": [
    "Tendo como diagrama de bifurcação:"
   ]
  },
  {
   "cell_type": "markdown",
   "metadata": {},
   "source": [
    "![figura344](fig344.png)"
   ]
  },
  {
   "cell_type": "markdown",
   "metadata": {},
   "source": [
    "Outro exemplo: O poço de potencial.\n",
    "    \n",
    "$$x^{'} = rx - x^{3}, \\qquad \\qquad (vi)$$\n",
    "     \n",
    "O termo cúbico age com estabilizador, fisicamente é um restaurador de forças puxando $x(t)$ de volta a $x=(0)$, no sistema oscilador massa mola.\n",
    "     \n",
    "$$x_{1}^{*} = 0 \\quad , \\quad x_{2,3}^{*} = \\pm \\sqrt{r}$$.     "
   ]
  },
  {
   "cell_type": "markdown",
   "metadata": {},
   "source": [
    "![figura345](fig345.png)"
   ]
  },
  {
   "cell_type": "markdown",
   "metadata": {},
   "source": [
    "Já em:\n",
    "    \n",
    "$$x^{'} = rx + x^{3}$$\n",
    "     \n",
    "o termo cúbico é desestabilizador dominante, caso **subcrítico de bifurcação Pichtfork**\n",
    "     \n",
    "$$x_{1}^{*} = 0 \\quad , \\quad x_{2}^{*} = + \\sqrt{-r} \\quad \\text{e}  \\quad x_{3}^{*} = - \\sqrt{-r}$$."
   ]
  },
  {
   "cell_type": "markdown",
   "metadata": {},
   "source": [
    "Com o seguinte diagrama de bifurcação subcrítico Pitchfork:"
   ]
  },
  {
   "cell_type": "markdown",
   "metadata": {},
   "source": [
    "![figura346](fig346.png)"
   ]
  },
  {
   "cell_type": "markdown",
   "metadata": {},
   "source": [
    "Agregando o termo:\n",
    "    \n",
    "$$x^{'} = rx + x^{3} - x^{5}$$\n",
    "    \n",
    "O diagrama canônico de sistema com bifurcação subcrítico Pitchfork:"
   ]
  },
  {
   "cell_type": "markdown",
   "metadata": {},
   "source": [
    "![figura347](fig347.png)"
   ]
  },
  {
   "cell_type": "markdown",
   "metadata": {},
   "source": [
    "Possibilitando o aparecimento da curva de **Histereris**, quando r é variado."
   ]
  },
  {
   "cell_type": "markdown",
   "metadata": {},
   "source": [
    "![figura348](fig348.png)"
   ]
  },
  {
   "cell_type": "markdown",
   "metadata": {},
   "source": [
    "O parâmetro de colheita $h$:\n",
    "$$x^{'} = rx - x^{3} + h$$\n",
    "máximo local    "
   ]
  },
  {
   "cell_type": "markdown",
   "metadata": {},
   "source": [
    "\\begin{equation*}\n",
    "    \\begin{array}{rcl}\n",
    "        \\dfrac{d(rx - x^{3})}{dx} & = & r - 3x^{2} = 0 \\\\ \\\\\n",
    "        x_{max} & = & \\sqrt{\\dfrac{r}{3}}, \\quad \\text{resultando:} \\\\\n",
    "        h_{c}(r) & = & \\sqrt{\\dfrac{4r^{3}}{27}}.\n",
    "    \\end{array}\n",
    "\\end{equation*}"
   ]
  },
  {
   "cell_type": "markdown",
   "metadata": {},
   "source": [
    "![figura349](fig349.png)"
   ]
  },
  {
   "cell_type": "markdown",
   "metadata": {},
   "source": [
    "Análise do plano de fase $(h, r)$:"
   ]
  },
  {
   "cell_type": "markdown",
   "metadata": {},
   "source": [
    "![figura350](fig350.png)"
   ]
  },
  {
   "cell_type": "markdown",
   "metadata": {},
   "source": [
    "O diagrama de bifurcação:"
   ]
  },
  {
   "cell_type": "markdown",
   "metadata": {},
   "source": [
    "![figura351](fig351.png)"
   ]
  },
  {
   "cell_type": "markdown",
   "metadata": {},
   "source": [
    "O diagrama de bifurcação em $h$:"
   ]
  },
  {
   "cell_type": "markdown",
   "metadata": {},
   "source": [
    "![figura352](fig352.png)"
   ]
  },
  {
   "cell_type": "markdown",
   "metadata": {},
   "source": [
    "Alguns diagramas de fase:"
   ]
  },
  {
   "cell_type": "code",
   "execution_count": 5,
   "metadata": {},
   "outputs": [],
   "source": [
    "# importa bibliotecas necessarias \n",
    "import matplotlib.pyplot as plt\n",
    "import numpy as np\n",
    "\n",
    "# define uma funcao feval que recebe o nome da equacao a ser avaliada como string \n",
    "# e retorna a funcao a ser avaliada\n",
    "def feval(funcName, *args):\n",
    "    return eval(funcName)(*args)"
   ]
  },
  {
   "cell_type": "code",
   "execution_count": 6,
   "metadata": {},
   "outputs": [],
   "source": [
    "# define a resolucao numerica por runge-kutta de quarta ordem\n",
    "def RK4thOrder(func, yinit, x_range, h):\n",
    "    m = len(yinit)\n",
    "    n = int((x_range[-1] - x_range[0])/h)\n",
    "    \n",
    "    x = x_range[0]\n",
    "    y = yinit\n",
    "    \n",
    "    # Containers for solutions\n",
    "    xsol = np.empty(0)\n",
    "    xsol = np.append(xsol, x)\n",
    "\n",
    "    ysol = np.empty(0)\n",
    "    ysol = np.append(ysol, y)\n",
    "\n",
    "    for i in range(n):\n",
    "        k1 = feval(func, x, y)\n",
    "\n",
    "        yp2 = y + k1*(h/2)\n",
    "\n",
    "        k2 = feval(func, x+h/2, yp2)\n",
    "\n",
    "        yp3 = y + k2*(h/2)\n",
    "\n",
    "        k3 = feval(func, x+h/2, yp3)\n",
    "\n",
    "        yp4 = y + k3*h\n",
    "\n",
    "        k4 = feval(func, x+h, yp4)\n",
    "\n",
    "        for j in range(m):\n",
    "            y[j] = y[j] + (h/6)*(k1[j] + 2*k2[j] + 2*k3[j] + k4[j])\n",
    "\n",
    "        x = x + h\n",
    "        xsol = np.append(xsol, x)\n",
    "\n",
    "        for r in range(len(y)):\n",
    "            ysol = np.append(ysol, y[r])  \n",
    "\n",
    "    return [xsol, ysol]"
   ]
  },
  {
   "cell_type": "markdown",
   "metadata": {},
   "source": [
    "Agora, vamos definir a função que contem as equações e respectivos parâmetros."
   ]
  },
  {
   "cell_type": "code",
   "execution_count": 7,
   "metadata": {},
   "outputs": [],
   "source": [
    "# define a funcao que contem as equacoes do sistema a ser avaliado\n",
    "def Exploration(x, y):\n",
    "    ## parametros do sistema de 6 equacoes descrito acima\n",
    "    alpha  = 1.0\n",
    "    beta     = 30\n",
    "  \n",
    "    ## inicializa com zeros\n",
    "    dy = np.zeros(1)\n",
    "    \n",
    "    ## equacao: y[0] = x,\n",
    "    dy[0] = alpha*y[0] - y[0]*y[0]*y[0] + beta*np.sin(2*np.pi*x) # \n",
    "\n",
    "    return dy"
   ]
  },
  {
   "cell_type": "code",
   "execution_count": 8,
   "metadata": {},
   "outputs": [],
   "source": [
    "# passo\n",
    "h = 0.001\n",
    "\n",
    "# \n",
    "x = np.array([0.0, 20.0])\n",
    "\n",
    "# condicoes iniciais\n",
    "x0  = 1\n",
    "\n",
    "yinit = np.array([x0], dtype='f') #"
   ]
  },
  {
   "cell_type": "markdown",
   "metadata": {},
   "source": [
    "Chama o método de runge-kutta definido anteriormente passando o nome da função como parâmetro, além das condições iniciais e o passo de tempo."
   ]
  },
  {
   "cell_type": "code",
   "execution_count": 9,
   "metadata": {},
   "outputs": [],
   "source": [
    "[ts, ys] = RK4thOrder('Exploration', yinit, x, h)"
   ]
  },
  {
   "cell_type": "markdown",
   "metadata": {},
   "source": [
    "Prepara os resultados para visualização separando cada variável em um vetor."
   ]
  },
  {
   "cell_type": "code",
   "execution_count": 10,
   "metadata": {},
   "outputs": [],
   "source": [
    "node = len(yinit)\n",
    "ys1 = ys[0::node]"
   ]
  },
  {
   "cell_type": "markdown",
   "metadata": {},
   "source": [
    "Vamos ver duas forma de exibir os resultados. Podemos plotar todos no mesmo gráfico conforme mostrado a seguir:"
   ]
  },
  {
   "cell_type": "markdown",
   "metadata": {},
   "source": [
    "Outros valores, r=2 e h variando."
   ]
  },
  {
   "cell_type": "markdown",
   "metadata": {},
   "source": [
    "Construir a bifurcação com r=2 e h variando."
   ]
  },
  {
   "cell_type": "code",
   "execution_count": 11,
   "metadata": {},
   "outputs": [
    {
     "data": {
      "image/png": "[encoded data removed]",
      "text/plain": [
       "<Figure size 432x288 with 1 Axes>"
      ]
     },
     "metadata": {},
     "output_type": "display_data"
    }
   ],
   "source": [
    "a=2\n",
    "x0=-1.0  #População inicial\n",
    "n=1000  #Número total de iterações\n",
    "ultimos=50   #Critério de parada.\n",
    "b=0\n",
    "fig=plt.figure()\n",
    "while b<4: \n",
    "    xns=[x0]   #Lista de armazenamento dos elementos dos pontos de sucessão.\n",
    "    for i in range(n):\n",
    "        xns.append(a*xns[i]-xns[i]*xns[i]*xns[i]-b)\n",
    "    b+=0.005\n",
    "    xfinal=xns[n-ultimos:]    #últimos 50 valores dos pontos da sucessão.\n",
    "    bs1=[b for xs in xfinal]    #Lista com b repetidos 50 vezes.\n",
    "    plt.scatter(bs1, xfinal, c='b', marker='o', s=0.1)\n",
    "    \n",
    "plt.xlabel('$b$')\n",
    "plt.ylabel('$x_n$\\'s convergentes')\n",
    "plt.show()\n",
    "\n",
    "# descomente se quiser salvar a figura\n",
    "#plt.savefig('Fig_Bifurc-a2-b.png', dpi=600)"
   ]
  },
  {
   "cell_type": "markdown",
   "metadata": {},
   "source": [
    "Dado $\\dfrac{dx}{dt}=x-x^3-h.sin(2\\pi\\,t)$."
   ]
  },
  {
   "cell_type": "markdown",
   "metadata": {},
   "source": [
    "Construir a bifurcação com a variando e |h| pequeno e variando com o seno."
   ]
  },
  {
   "cell_type": "code",
   "execution_count": 12,
   "metadata": {},
   "outputs": [
    {
     "data": {
      "image/png": "[encoded data removed]",
      "text/plain": [
       "<Figure size 432x288 with 1 Axes>"
      ]
     },
     "metadata": {},
     "output_type": "display_data"
    }
   ],
   "source": [
    "a=0      # a*x - x^3 - bsin(2pi.t)\n",
    "x0=0.01  #População inicial\n",
    "n=1000  #Número total de iterações\n",
    "ultimos=50   #Critério de parada.\n",
    "b=1.2\n",
    "fig=plt.figure()\n",
    "while a<4: \n",
    "    xns=[x0]   #Lista de armazenamento dos elementos dos pontos de sucessão.\n",
    "    for i in range(n):\n",
    "        xns.append(0.85*xns[i]-xns[i]*xns[i]*xns[i]-b*np.sin(2*np.pi*a))\n",
    "    a+=0.005\n",
    "    xfinal=xns[n-ultimos:]    #últimos 50 valores dos pontos da sucessão.\n",
    "    as1=[a for xs in xfinal]    #Lista com b repetidos 50 vezes.\n",
    "    plt.scatter(as1, xfinal, c='b', marker='o', s=0.1)\n",
    "    \n",
    "plt.xlabel('$b$')\n",
    "plt.ylabel('$x_n$\\'s convergentes')\n",
    "plt.show()\n",
    "\n",
    "# descomente se quiser salvar a figura\n",
    "#plt.savefig('Fig_Bifurc-a0.85-b1.2sin.png', dpi=600)"
   ]
  },
  {
   "cell_type": "code",
   "execution_count": null,
   "metadata": {},
   "outputs": [],
   "source": []
  }
 ],
 "metadata": {
  "kernelspec": {
   "display_name": "SageMath 9.1",
   "language": "sage",
   "name": "sagemath"
  },
  "language_info": {
   "codemirror_mode": {
    "name": "ipython",
    "version": 3
   },
   "file_extension": ".py",
   "mimetype": "text/x-python",
   "name": "python",
   "nbconvert_exporter": "python",
   "pygments_lexer": "ipython3",
   "version": "3.7.3"
  }
 },
 "nbformat": 4,
 "nbformat_minor": 2
}
